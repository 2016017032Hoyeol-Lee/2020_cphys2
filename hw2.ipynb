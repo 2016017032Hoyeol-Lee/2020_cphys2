{
 "cells": [
  {
   "cell_type": "markdown",
   "metadata": {},
   "source": [
    "# 2016017032 물리학과 이호열"
   ]
  },
  {
   "cell_type": "markdown",
   "metadata": {},
   "source": [
    "# 1. 구구단 함수\n",
    "구구단 몇 단을 출력할 것인지를 입력받아 구구단을 출력하는 함수를 작성하여라."
   ]
  },
  {
   "cell_type": "code",
   "execution_count": 1,
   "metadata": {},
   "outputs": [],
   "source": [
    "def gugudan(a):\n",
    "    print(\"구구단\")\n",
    "    print(\"[\", a, \"단\", \"]\")\n",
    "    for x in range(1, 10):\n",
    "            print(f'{a}x{x}={a*x}',end=\"\\t\")\n",
    "    return"
   ]
  },
  {
   "cell_type": "code",
   "execution_count": 2,
   "metadata": {
    "scrolled": true
   },
   "outputs": [
    {
     "name": "stdout",
     "output_type": "stream",
     "text": [
      "구구단\n",
      "[ 7 단 ]\n",
      "7x1=7\t7x2=14\t7x3=21\t7x4=28\t7x5=35\t7x6=42\t7x7=49\t7x8=56\t7x9=63\t"
     ]
    }
   ],
   "source": [
    "gugudan(7)"
   ]
  },
  {
   "cell_type": "code",
   "execution_count": 12,
   "metadata": {},
   "outputs": [
    {
     "name": "stdout",
     "output_type": "stream",
     "text": [
      "구구단\n",
      "[ 3 단 ]\n",
      "3x1=3\t3x2=6\t3x3=9\t3x4=12\t3x5=15\t3x6=18\t3x7=21\t3x8=24\t3x9=27\t"
     ]
    }
   ],
   "source": [
    "gugudan(3)"
   ]
  },
  {
   "cell_type": "markdown",
   "metadata": {},
   "source": [
    "# 2. 홀수/짝수 판별\n",
    "숫자를 하나 입력받아 홀수인지 짝수인지 판별하는 함수를 작성하여라.<br>\n",
    "다음의 정보가 도움이 될 수 있다.\n",
    "* \"%\"는 나머지를 출력하는 연산이다."
   ]
  },
  {
   "cell_type": "code",
   "execution_count": 3,
   "metadata": {},
   "outputs": [],
   "source": [
    "# 홀수와 짝수라는 개념은 자연수에서 사용하는 용어이다.\n",
    "\n",
    "def distinction(x):\n",
    "    if x <= 0:\n",
    "        print(\"not positive integer\")\n",
    "    elif x%2 == 1:\n",
    "        print(\"odd\")\n",
    "    elif x%2 == 0:\n",
    "        print(\"even\")\n",
    "    else:\n",
    "        print(\"not natural number\")\n",
    "    return"
   ]
  },
  {
   "cell_type": "code",
   "execution_count": 11,
   "metadata": {},
   "outputs": [
    {
     "name": "stdout",
     "output_type": "stream",
     "text": [
      "not natural number\n",
      "odd\n",
      "even\n",
      "not positive integer\n"
     ]
    },
    {
     "data": {
      "text/plain": [
       "(None, None, None, None)"
      ]
     },
     "execution_count": 11,
     "metadata": {},
     "output_type": "execute_result"
    }
   ],
   "source": [
    "distinction(3.14), distinction(63), distinction(1234), distinction(-1)"
   ]
  },
  {
   "cell_type": "markdown",
   "metadata": {},
   "source": [
    "# 3. 평균\n",
    "숫자로 이루어져 있는 리스트를 입력받아 숫자들의 평균을 계산하는 함수를 작성하여라.  \n",
    "다음의 정보가 도움이 될 수 있다.\n",
    "\n",
    "* \"len()\"은 리스트의 길이를 출력하는 함수이다."
   ]
  },
  {
   "cell_type": "code",
   "execution_count": 6,
   "metadata": {},
   "outputs": [],
   "source": [
    "def average(list):\n",
    "    print(\"평균값\")\n",
    "    x = 0\n",
    "    for i in range(len(list)):\n",
    "        x += list[i]\n",
    "    return x/len(list) "
   ]
  },
  {
   "cell_type": "code",
   "execution_count": 9,
   "metadata": {
    "scrolled": true
   },
   "outputs": [
    {
     "name": "stdout",
     "output_type": "stream",
     "text": [
      "평균값\n"
     ]
    },
    {
     "data": {
      "text/plain": [
       "5.0"
      ]
     },
     "execution_count": 9,
     "metadata": {},
     "output_type": "execute_result"
    }
   ],
   "source": [
    "list = [1,2,3,4,5,6,7,8,9] \n",
    "average(list)"
   ]
  },
  {
   "cell_type": "code",
   "execution_count": null,
   "metadata": {},
   "outputs": [],
   "source": []
  }
 ],
 "metadata": {
  "kernelspec": {
   "display_name": "Python 3",
   "language": "python",
   "name": "python3"
  },
  "language_info": {
   "codemirror_mode": {
    "name": "ipython",
    "version": 3
   },
   "file_extension": ".py",
   "mimetype": "text/x-python",
   "name": "python",
   "nbconvert_exporter": "python",
   "pygments_lexer": "ipython3",
   "version": "3.7.6"
  }
 },
 "nbformat": 4,
 "nbformat_minor": 4
}
